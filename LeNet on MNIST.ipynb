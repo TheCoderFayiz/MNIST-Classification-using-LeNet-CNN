{
 "cells": [
  {
   "cell_type": "code",
   "execution_count": 54,
   "id": "bea76b9a",
   "metadata": {},
   "outputs": [],
   "source": [
    "import torch\n",
    "import torchvision\n",
    "import numpy as np\n",
    "import matplotlib.pyplot as plt\n",
    "import pandas as pd"
   ]
  },
  {
   "cell_type": "code",
   "execution_count": 55,
   "id": "e3b830a3",
   "metadata": {},
   "outputs": [],
   "source": [
    "train_data = torchvision.datasets.MNIST(root='../data',train = True, download= True, transform=torchvision.transforms.ToTensor())\n",
    "test_data = torchvision.datasets.MNIST(root='../data', train = False, download= True, transform=torchvision.transforms.ToTensor())"
   ]
  },
  {
   "cell_type": "code",
   "execution_count": 56,
   "id": "58e8fa58",
   "metadata": {},
   "outputs": [
    {
     "data": {
      "text/plain": [
       "Dataset MNIST\n",
       "    Number of datapoints: 60000\n",
       "    Root location: ../data\n",
       "    Split: Train\n",
       "    StandardTransform\n",
       "Transform: ToTensor()"
      ]
     },
     "execution_count": 56,
     "metadata": {},
     "output_type": "execute_result"
    }
   ],
   "source": [
    "train_data"
   ]
  },
  {
   "cell_type": "code",
   "execution_count": 57,
   "id": "eefae38a",
   "metadata": {},
   "outputs": [
    {
     "data": {
      "text/plain": [
       "Dataset MNIST\n",
       "    Number of datapoints: 10000\n",
       "    Root location: ../data\n",
       "    Split: Test\n",
       "    StandardTransform\n",
       "Transform: ToTensor()"
      ]
     },
     "execution_count": 57,
     "metadata": {},
     "output_type": "execute_result"
    }
   ],
   "source": [
    "test_data"
   ]
  },
  {
   "cell_type": "code",
   "execution_count": 58,
   "id": "9b86eef7",
   "metadata": {},
   "outputs": [
    {
     "name": "stdout",
     "output_type": "stream",
     "text": [
      "Corresponding Label is 5\n"
     ]
    },
    {
     "data": {
      "image/png": "[encoded data removed]",
      "text/plain": [
       "<Figure size 432x288 with 1 Axes>"
      ]
     },
     "metadata": {
      "needs_background": "light"
     },
     "output_type": "display_data"
    }
   ],
   "source": [
    "plt.imshow(np.array(np.transpose(train_data[0][0],(1,2,0))))\n",
    "print(f'Corresponding Label is {train_data[0][1]}')"
   ]
  },
  {
   "cell_type": "code",
   "execution_count": 70,
   "id": "2667f1b9",
   "metadata": {},
   "outputs": [],
   "source": [
    "trainloader = torch.utils.data.DataLoader(train_data, batch_size=10, shuffle = True)\n",
    "testloader  = torch.utils.data.DataLoader(test_data, batch_size=10, shuffle = False)"
   ]
  },
  {
   "cell_type": "code",
   "execution_count": 71,
   "id": "48bb3ba9",
   "metadata": {},
   "outputs": [],
   "source": [
    "for images, labels in trainloader:\n",
    "    break"
   ]
  },
  {
   "cell_type": "code",
   "execution_count": 72,
   "id": "71c1dc6c",
   "metadata": {},
   "outputs": [
    {
     "name": "stdout",
     "output_type": "stream",
     "text": [
      "torch.Size([3, 32, 302])\n",
      "corresponding labels are [9, 3, 9, 4, 2, 3, 0, 2, 7, 9]\n"
     ]
    },
    {
     "data": {
      "image/png": "[encoded data removed]",
      "text/plain": [
       "<Figure size 432x288 with 1 Axes>"
      ]
     },
     "metadata": {
      "needs_background": "light"
     },
     "output_type": "display_data"
    }
   ],
   "source": [
    "im=torchvision.utils.make_grid(images[:12],nrow=12)\n",
    "print(im.shape)\n",
    "plt.imshow(np.transpose(im.numpy(),(1,2,0)))\n",
    "print(f'corresponding labels are {list(labels.numpy()[:12])}')"
   ]
  },
  {
   "cell_type": "code",
   "execution_count": 73,
   "id": "caa5b06b",
   "metadata": {},
   "outputs": [],
   "source": [
    "class ConvolutionalNetwork(torch.nn.Module):\n",
    "    def __init__(self):\n",
    "        super().__init__()\n",
    "        self.conv1=torch.nn.Conv2d(1,6,3,1)\n",
    "        self.conv2=torch.nn.Conv2d(6,16,3,1)\n",
    "        self.fc1=torch.nn.Linear(16*5*5,120)\n",
    "        self.fc2=torch.nn.Linear(120,84)\n",
    "        self.fc3=torch.nn.Linear(84,10)\n",
    "    def forward(self,x):\n",
    "        x=torch.nn.functional.relu(self.conv1(x))\n",
    "        x=torch.nn.functional.max_pool2d(x,2,2)\n",
    "        x=torch.nn.functional.relu(self.conv2(x))\n",
    "        x=torch.nn.functional.max_pool2d(x,2,2)\n",
    "        x=torch.nn.functional.relu(self.fc1(x.view(-1,16*5*5)))\n",
    "        x=torch.nn.functional.relu(self.fc2(x))\n",
    "        x=self.fc3(x)\n",
    "        return torch.nn.functional.log_softmax(x,dim=1)"
   ]
  },
  {
   "cell_type": "code",
   "execution_count": 74,
   "id": "753ec62b",
   "metadata": {},
   "outputs": [
    {
     "data": {
      "text/plain": [
       "ConvolutionalNetwork(\n",
       "  (conv1): Conv2d(1, 6, kernel_size=(3, 3), stride=(1, 1))\n",
       "  (conv2): Conv2d(6, 16, kernel_size=(3, 3), stride=(1, 1))\n",
       "  (fc1): Linear(in_features=400, out_features=120, bias=True)\n",
       "  (fc2): Linear(in_features=120, out_features=84, bias=True)\n",
       "  (fc3): Linear(in_features=84, out_features=10, bias=True)\n",
       ")"
      ]
     },
     "execution_count": 74,
     "metadata": {},
     "output_type": "execute_result"
    }
   ],
   "source": [
    "model=ConvolutionalNetwork()\n",
    "model"
   ]
  },
  {
   "cell_type": "code",
   "execution_count": 75,
   "id": "ccbf2048",
   "metadata": {},
   "outputs": [
    {
     "data": {
      "text/plain": [
       "60074"
      ]
     },
     "execution_count": 75,
     "metadata": {},
     "output_type": "execute_result"
    }
   ],
   "source": [
    "num_param=0\n",
    "for param in model.parameters():\n",
    "    num_param+=param.numel()\n",
    "num_param"
   ]
  },
  {
   "cell_type": "code",
   "execution_count": 76,
   "id": "69e32a3e",
   "metadata": {},
   "outputs": [],
   "source": [
    "criterion = torch.nn.CrossEntropyLoss()\n",
    "optimizer = torch.optim.Adam(model.parameters(),lr=0.001)"
   ]
  },
  {
   "cell_type": "code",
   "execution_count": 77,
   "id": "abafeb2c",
   "metadata": {},
   "outputs": [
    {
     "name": "stdout",
     "output_type": "stream",
     "text": [
      "Epoch: 1, Batch: 6000, Train Loss: 0.403707355260849\n",
      "Epoch: 2, Batch: 6000, Train Loss: 0.004983675200492144\n",
      "Epoch: 3, Batch: 6000, Train Loss: 0.005308766849339008\n",
      "Epoch: 4, Batch: 6000, Train Loss: 1.3548837900161743\n",
      "Epoch: 5, Batch: 6000, Train Loss: 9.075264824787155e-05\n",
      "Total Duration of training is 6.840349372227987 minutes\n"
     ]
    }
   ],
   "source": [
    "import time\n",
    "start_time=time.time()\n",
    "\n",
    "#Trackers\n",
    "epochs=5\n",
    "train_loss=[]\n",
    "test_loss=[]\n",
    "train_correct=[]\n",
    "test_correct=[]\n",
    "\n",
    "#For loop Epochs\n",
    "for i in range (epochs):\n",
    "    train_corr=0\n",
    "    test_corr=0\n",
    "    \n",
    "   #TRAIN\n",
    "    for b, (x_train,y_train) in enumerate(trainloader):\n",
    "        b+=1\n",
    "        y_pred=model(x_train)\n",
    "        loss=criterion(y_pred,y_train)\n",
    "        predicted=torch.max(y_pred.data,1)[1]\n",
    "        batch_corr = (predicted==y_train).sum()\n",
    "        train_corr+=batch_corr\n",
    "        \n",
    "        optimizer.zero_grad()\n",
    "        loss.backward()\n",
    "        optimizer.step()\n",
    "        \n",
    "        if b%6000==0:\n",
    "            print(f\"Epoch: {i+1}, Batch: {b}, Train Loss: {loss.item()}\")\n",
    "    train_loss.append(loss.item())\n",
    "    train_correct.append(train_corr)\n",
    "    \n",
    "    \n",
    "    \n",
    "    #TEST\n",
    "    with torch.no_grad():\n",
    "        for b, (x_test,y_test) in enumerate(testloader):\n",
    "            y_pred=model(x_test)\n",
    "            loss=criterion(y_pred,y_test)\n",
    "            predicted=torch.max(y_pred.data,1)[1]\n",
    "            batch_corr = (predicted==y_test).sum()\n",
    "            test_corr+=batch_corr\n",
    "        test_correct.append(test_corr)\n",
    "        test_loss.append(loss.item())\n",
    "\n",
    "stop_time=time.time()\n",
    "total_time=stop_time-start_time\n",
    "\n",
    "print(f\"Total Duration of training is {total_time/60} minutes\")"
   ]
  },
  {
   "cell_type": "code",
   "execution_count": 78,
   "id": "1349ceeb",
   "metadata": {},
   "outputs": [
    {
     "data": {
      "image/png": "[encoded data removed]",
      "text/plain": [
       "<Figure size 432x288 with 1 Axes>"
      ]
     },
     "metadata": {
      "needs_background": "light"
     },
     "output_type": "display_data"
    }
   ],
   "source": [
    "plt.plot(np.array(train_loss),label=\"Train Loss\")\n",
    "plt.plot(test_loss,label=\"Validation Loss\")\n",
    "plt.title(\"Loss at epoch\")\n",
    "plt.legend()\n",
    "plt.show()"
   ]
  },
  {
   "cell_type": "code",
   "execution_count": 80,
   "id": "3208df2a",
   "metadata": {},
   "outputs": [
    {
     "data": {
      "image/png": "[encoded data removed]",
      "text/plain": [
       "<Figure size 432x288 with 1 Axes>"
      ]
     },
     "metadata": {
      "needs_background": "light"
     },
     "output_type": "display_data"
    }
   ],
   "source": [
    "plt.plot([i/600 for i in train_correct],label=\"Train Accuracy\")\n",
    "plt.plot([i/100 for i in test_correct],label=\"Validation Accuracy\")\n",
    "plt.title(\"Accuracy at epoch\")\n",
    "plt.legend()\n",
    "plt.show()"
   ]
  },
  {
   "cell_type": "code",
   "execution_count": 81,
   "id": "fcbeb1b2",
   "metadata": {},
   "outputs": [],
   "source": [
    "test_load_all=torch.utils.data.DataLoader(test_data,batch_size=10000,shuffle=False)"
   ]
  },
  {
   "cell_type": "code",
   "execution_count": 83,
   "id": "1597e47f",
   "metadata": {},
   "outputs": [],
   "source": [
    "with torch.no_grad():\n",
    "    tst_corr=0\n",
    "    for b, (x_testall,y_testall) in enumerate(test_load_all):\n",
    "        b+=1\n",
    "        y_pred=model(x_testall)\n",
    "        predicted=torch.max(y_pred.data,1)[1]\n",
    "        tst_corr+=(predicted==y_testall).sum()   "
   ]
  },
  {
   "cell_type": "code",
   "execution_count": 88,
   "id": "78649f0d",
   "metadata": {},
   "outputs": [
    {
     "name": "stdout",
     "output_type": "stream",
     "text": [
      "Test accuracy is 98.8499984741211 %\n"
     ]
    }
   ],
   "source": [
    "print(f\"Test accuracy is {tst_corr.data*100/len(test_data)} %\")"
   ]
  }
 ],
 "metadata": {
  "kernelspec": {
   "display_name": "Python 3 (ipykernel)",
   "language": "python",
   "name": "python3"
  },
  "language_info": {
   "codemirror_mode": {
    "name": "ipython",
    "version": 3
   },
   "file_extension": ".py",
   "mimetype": "text/x-python",
   "name": "python",
   "nbconvert_exporter": "python",
   "pygments_lexer": "ipython3",
   "version": "3.8.0"
  }
 },
 "nbformat": 4,
 "nbformat_minor": 5
}
